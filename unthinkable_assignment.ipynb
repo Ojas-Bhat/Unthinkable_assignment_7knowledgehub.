{
 "cells": [
  {
   "cell_type": "code",
   "execution_count": 11,
   "id": "8149332e-6c6d-420f-94ba-2aaadb5d02f6",
   "metadata": {},
   "outputs": [
    {
     "name": "stdout",
     "output_type": "stream",
     "text": [
      "Requirement already satisfied: unstructured[all-docs] in c:\\users\\ojasb\\appdata\\local\\programs\\python\\python312\\lib\\site-packages (0.18.15)\n",
      "Requirement already satisfied: charset-normalizer in c:\\users\\ojasb\\appdata\\local\\programs\\python\\python312\\lib\\site-packages (from unstructured[all-docs]) (3.4.1)\n",
      "Requirement already satisfied: filetype in c:\\users\\ojasb\\appdata\\local\\programs\\python\\python312\\lib\\site-packages (from unstructured[all-docs]) (1.2.0)\n",
      "Requirement already satisfied: python-magic in c:\\users\\ojasb\\appdata\\local\\programs\\python\\python312\\lib\\site-packages (from unstructured[all-docs]) (0.4.27)\n",
      "Requirement already satisfied: lxml in c:\\users\\ojasb\\appdata\\local\\programs\\python\\python312\\lib\\site-packages (from unstructured[all-docs]) (6.0.2)\n",
      "Requirement already satisfied: nltk in c:\\users\\ojasb\\appdata\\local\\programs\\python\\python312\\lib\\site-packages (from unstructured[all-docs]) (3.9.1)\n",
      "Requirement already satisfied: requests in c:\\users\\ojasb\\appdata\\local\\programs\\python\\python312\\lib\\site-packages (from unstructured[all-docs]) (2.32.5)\n",
      "Requirement already satisfied: beautifulsoup4 in c:\\users\\ojasb\\appdata\\local\\programs\\python\\python312\\lib\\site-packages (from unstructured[all-docs]) (4.12.3)\n",
      "Requirement already satisfied: emoji in c:\\users\\ojasb\\appdata\\local\\programs\\python\\python312\\lib\\site-packages (from unstructured[all-docs]) (2.15.0)\n",
      "Requirement already satisfied: dataclasses-json in c:\\users\\ojasb\\appdata\\local\\programs\\python\\python312\\lib\\site-packages (from unstructured[all-docs]) (0.6.7)\n",
      "Requirement already satisfied: python-iso639 in c:\\users\\ojasb\\appdata\\local\\programs\\python\\python312\\lib\\site-packages (from unstructured[all-docs]) (2025.2.18)\n",
      "Requirement already satisfied: langdetect in c:\\users\\ojasb\\appdata\\local\\programs\\python\\python312\\lib\\site-packages (from unstructured[all-docs]) (1.0.9)\n",
      "Requirement already satisfied: numpy in c:\\users\\ojasb\\appdata\\local\\programs\\python\\python312\\lib\\site-packages (from unstructured[all-docs]) (2.1.0)\n",
      "Requirement already satisfied: rapidfuzz in c:\\users\\ojasb\\appdata\\local\\programs\\python\\python312\\lib\\site-packages (from unstructured[all-docs]) (3.14.1)\n",
      "Requirement already satisfied: backoff in c:\\users\\ojasb\\appdata\\local\\programs\\python\\python312\\lib\\site-packages (from unstructured[all-docs]) (2.2.1)\n",
      "Requirement already satisfied: typing-extensions in c:\\users\\ojasb\\appdata\\local\\programs\\python\\python312\\lib\\site-packages (from unstructured[all-docs]) (4.15.0)\n",
      "Requirement already satisfied: unstructured-client in c:\\users\\ojasb\\appdata\\local\\programs\\python\\python312\\lib\\site-packages (from unstructured[all-docs]) (0.42.3)\n",
      "Requirement already satisfied: wrapt in c:\\users\\ojasb\\appdata\\local\\programs\\python\\python312\\lib\\site-packages (from unstructured[all-docs]) (1.17.2)\n",
      "Requirement already satisfied: tqdm in c:\\users\\ojasb\\appdata\\local\\programs\\python\\python312\\lib\\site-packages (from unstructured[all-docs]) (4.66.6)\n",
      "Requirement already satisfied: psutil in c:\\users\\ojasb\\appdata\\local\\programs\\python\\python312\\lib\\site-packages (from unstructured[all-docs]) (6.1.1)\n",
      "Requirement already satisfied: python-oxmsg in c:\\users\\ojasb\\appdata\\local\\programs\\python\\python312\\lib\\site-packages (from unstructured[all-docs]) (0.0.2)\n",
      "Requirement already satisfied: html5lib in c:\\users\\ojasb\\appdata\\local\\programs\\python\\python312\\lib\\site-packages (from unstructured[all-docs]) (1.1)\n",
      "Requirement already satisfied: networkx in c:\\users\\ojasb\\appdata\\local\\programs\\python\\python312\\lib\\site-packages (from unstructured[all-docs]) (3.4.2)\n",
      "Requirement already satisfied: pypandoc in c:\\users\\ojasb\\appdata\\local\\programs\\python\\python312\\lib\\site-packages (from unstructured[all-docs]) (1.15)\n",
      "Requirement already satisfied: effdet in c:\\users\\ojasb\\appdata\\local\\programs\\python\\python312\\lib\\site-packages (from unstructured[all-docs]) (0.4.1)\n",
      "Requirement already satisfied: unstructured.pytesseract>=0.3.12 in c:\\users\\ojasb\\appdata\\local\\programs\\python\\python312\\lib\\site-packages (from unstructured[all-docs]) (0.3.15)\n",
      "Requirement already satisfied: xlrd in c:\\users\\ojasb\\appdata\\local\\programs\\python\\python312\\lib\\site-packages (from unstructured[all-docs]) (2.0.2)\n",
      "Requirement already satisfied: markdown in c:\\users\\ojasb\\appdata\\local\\programs\\python\\python312\\lib\\site-packages (from unstructured[all-docs]) (3.9)\n",
      "Requirement already satisfied: msoffcrypto-tool in c:\\users\\ojasb\\appdata\\local\\programs\\python\\python312\\lib\\site-packages (from unstructured[all-docs]) (5.4.2)\n",
      "Requirement already satisfied: python-pptx>=1.0.1 in c:\\users\\ojasb\\appdata\\local\\programs\\python\\python312\\lib\\site-packages (from unstructured[all-docs]) (1.0.2)\n",
      "Requirement already satisfied: pi-heif in c:\\users\\ojasb\\appdata\\local\\programs\\python\\python312\\lib\\site-packages (from unstructured[all-docs]) (1.1.1)\n",
      "Requirement already satisfied: pdf2image in c:\\users\\ojasb\\appdata\\local\\programs\\python\\python312\\lib\\site-packages (from unstructured[all-docs]) (1.17.0)\n",
      "Requirement already satisfied: pandas in c:\\users\\ojasb\\appdata\\local\\programs\\python\\python312\\lib\\site-packages (from unstructured[all-docs]) (2.2.2)\n",
      "Requirement already satisfied: pypdf in c:\\users\\ojasb\\appdata\\local\\programs\\python\\python312\\lib\\site-packages (from unstructured[all-docs]) (6.1.1)\n",
      "Requirement already satisfied: google-cloud-vision in c:\\users\\ojasb\\appdata\\local\\programs\\python\\python312\\lib\\site-packages (from unstructured[all-docs]) (3.10.2)\n",
      "Requirement already satisfied: onnx>=1.17.0 in c:\\users\\ojasb\\appdata\\local\\programs\\python\\python312\\lib\\site-packages (from unstructured[all-docs]) (1.19.1)\n",
      "Requirement already satisfied: python-docx>=1.1.2 in c:\\users\\ojasb\\appdata\\local\\programs\\python\\python312\\lib\\site-packages (from unstructured[all-docs]) (1.2.0)\n",
      "Requirement already satisfied: unstructured-inference>=1.0.5 in c:\\users\\ojasb\\appdata\\local\\programs\\python\\python312\\lib\\site-packages (from unstructured[all-docs]) (1.0.5)\n",
      "Requirement already satisfied: pdfminer.six in c:\\users\\ojasb\\appdata\\local\\programs\\python\\python312\\lib\\site-packages (from unstructured[all-docs]) (20250506)\n",
      "Requirement already satisfied: openpyxl in c:\\users\\ojasb\\appdata\\local\\programs\\python\\python312\\lib\\site-packages (from unstructured[all-docs]) (3.1.5)\n",
      "Requirement already satisfied: pikepdf in c:\\users\\ojasb\\appdata\\local\\programs\\python\\python312\\lib\\site-packages (from unstructured[all-docs]) (9.11.0)\n",
      "Requirement already satisfied: onnxruntime>=1.19.0 in c:\\users\\ojasb\\appdata\\local\\programs\\python\\python312\\lib\\site-packages (from unstructured[all-docs]) (1.23.1)\n",
      "Requirement already satisfied: protobuf>=4.25.1 in c:\\users\\ojasb\\appdata\\local\\programs\\python\\python312\\lib\\site-packages (from onnx>=1.17.0->unstructured[all-docs]) (6.31.1)\n",
      "Requirement already satisfied: ml_dtypes>=0.5.0 in c:\\users\\ojasb\\appdata\\local\\programs\\python\\python312\\lib\\site-packages (from onnx>=1.17.0->unstructured[all-docs]) (0.5.3)\n",
      "Requirement already satisfied: coloredlogs in c:\\users\\ojasb\\appdata\\local\\programs\\python\\python312\\lib\\site-packages (from onnxruntime>=1.19.0->unstructured[all-docs]) (15.0.1)\n",
      "Requirement already satisfied: flatbuffers in c:\\users\\ojasb\\appdata\\local\\programs\\python\\python312\\lib\\site-packages (from onnxruntime>=1.19.0->unstructured[all-docs]) (25.9.23)\n",
      "Requirement already satisfied: packaging in c:\\users\\ojasb\\appdata\\local\\programs\\python\\python312\\lib\\site-packages (from onnxruntime>=1.19.0->unstructured[all-docs]) (24.1)\n",
      "Requirement already satisfied: sympy in c:\\users\\ojasb\\appdata\\local\\programs\\python\\python312\\lib\\site-packages (from onnxruntime>=1.19.0->unstructured[all-docs]) (1.14.0)\n",
      "Requirement already satisfied: Pillow>=3.3.2 in c:\\users\\ojasb\\appdata\\local\\programs\\python\\python312\\lib\\site-packages (from python-pptx>=1.0.1->unstructured[all-docs]) (11.3.0)\n",
      "Requirement already satisfied: XlsxWriter>=0.5.7 in c:\\users\\ojasb\\appdata\\local\\programs\\python\\python312\\lib\\site-packages (from python-pptx>=1.0.1->unstructured[all-docs]) (3.2.9)\n",
      "Requirement already satisfied: python-multipart in c:\\users\\ojasb\\appdata\\local\\programs\\python\\python312\\lib\\site-packages (from unstructured-inference>=1.0.5->unstructured[all-docs]) (0.0.20)\n",
      "Requirement already satisfied: huggingface-hub in c:\\users\\ojasb\\appdata\\local\\programs\\python\\python312\\lib\\site-packages (from unstructured-inference>=1.0.5->unstructured[all-docs]) (0.34.4)\n",
      "Requirement already satisfied: opencv-python!=4.7.0.68 in c:\\users\\ojasb\\appdata\\local\\programs\\python\\python312\\lib\\site-packages (from unstructured-inference>=1.0.5->unstructured[all-docs]) (4.12.0.88)\n",
      "Requirement already satisfied: matplotlib in c:\\users\\ojasb\\appdata\\local\\programs\\python\\python312\\lib\\site-packages (from unstructured-inference>=1.0.5->unstructured[all-docs]) (3.9.2)\n",
      "Requirement already satisfied: torch in c:\\users\\ojasb\\appdata\\local\\programs\\python\\python312\\lib\\site-packages (from unstructured-inference>=1.0.5->unstructured[all-docs]) (2.7.1)\n",
      "Requirement already satisfied: timm in c:\\users\\ojasb\\appdata\\local\\programs\\python\\python312\\lib\\site-packages (from unstructured-inference>=1.0.5->unstructured[all-docs]) (1.0.20)\n",
      "Requirement already satisfied: transformers>=4.25.1 in c:\\users\\ojasb\\appdata\\local\\programs\\python\\python312\\lib\\site-packages (from unstructured-inference>=1.0.5->unstructured[all-docs]) (4.56.1)\n",
      "Requirement already satisfied: accelerate in c:\\users\\ojasb\\appdata\\local\\programs\\python\\python312\\lib\\site-packages (from unstructured-inference>=1.0.5->unstructured[all-docs]) (1.10.1)\n",
      "Requirement already satisfied: scipy in c:\\users\\ojasb\\appdata\\local\\programs\\python\\python312\\lib\\site-packages (from unstructured-inference>=1.0.5->unstructured[all-docs]) (1.14.1)\n",
      "Requirement already satisfied: pypdfium2 in c:\\users\\ojasb\\appdata\\local\\programs\\python\\python312\\lib\\site-packages (from unstructured-inference>=1.0.5->unstructured[all-docs]) (4.30.0)\n",
      "Requirement already satisfied: filelock in c:\\users\\ojasb\\appdata\\local\\programs\\python\\python312\\lib\\site-packages (from transformers>=4.25.1->unstructured-inference>=1.0.5->unstructured[all-docs]) (3.17.0)\n",
      "Requirement already satisfied: pyyaml>=5.1 in c:\\users\\ojasb\\appdata\\local\\programs\\python\\python312\\lib\\site-packages (from transformers>=4.25.1->unstructured-inference>=1.0.5->unstructured[all-docs]) (6.0.2)\n",
      "Requirement already satisfied: regex!=2019.12.17 in c:\\users\\ojasb\\appdata\\local\\programs\\python\\python312\\lib\\site-packages (from transformers>=4.25.1->unstructured-inference>=1.0.5->unstructured[all-docs]) (2024.9.11)\n",
      "Requirement already satisfied: tokenizers<=0.23.0,>=0.22.0 in c:\\users\\ojasb\\appdata\\local\\programs\\python\\python312\\lib\\site-packages (from transformers>=4.25.1->unstructured-inference>=1.0.5->unstructured[all-docs]) (0.22.0)\n",
      "Requirement already satisfied: safetensors>=0.4.3 in c:\\users\\ojasb\\appdata\\local\\programs\\python\\python312\\lib\\site-packages (from transformers>=4.25.1->unstructured-inference>=1.0.5->unstructured[all-docs]) (0.6.2)\n",
      "Requirement already satisfied: fsspec>=2023.5.0 in c:\\users\\ojasb\\appdata\\local\\programs\\python\\python312\\lib\\site-packages (from huggingface-hub->unstructured-inference>=1.0.5->unstructured[all-docs]) (2025.2.0)\n",
      "Requirement already satisfied: colorama in c:\\users\\ojasb\\appdata\\local\\programs\\python\\python312\\lib\\site-packages (from tqdm->unstructured[all-docs]) (0.4.6)\n",
      "Requirement already satisfied: jinja2 in c:\\users\\ojasb\\appdata\\local\\programs\\python\\python312\\lib\\site-packages (from torch->unstructured-inference>=1.0.5->unstructured[all-docs]) (3.1.5)\n",
      "Requirement already satisfied: setuptools in c:\\users\\ojasb\\appdata\\local\\programs\\python\\python312\\lib\\site-packages (from torch->unstructured-inference>=1.0.5->unstructured[all-docs]) (75.8.0)\n",
      "Requirement already satisfied: mpmath<1.4,>=1.1.0 in c:\\users\\ojasb\\appdata\\local\\programs\\python\\python312\\lib\\site-packages (from sympy->onnxruntime>=1.19.0->unstructured[all-docs]) (1.3.0)\n",
      "Requirement already satisfied: soupsieve>1.2 in c:\\users\\ojasb\\appdata\\local\\programs\\python\\python312\\lib\\site-packages (from beautifulsoup4->unstructured[all-docs]) (2.6)\n",
      "Requirement already satisfied: humanfriendly>=9.1 in c:\\users\\ojasb\\appdata\\local\\programs\\python\\python312\\lib\\site-packages (from coloredlogs->onnxruntime>=1.19.0->unstructured[all-docs]) (10.0)\n",
      "Requirement already satisfied: pyreadline3 in c:\\users\\ojasb\\appdata\\local\\programs\\python\\python312\\lib\\site-packages (from humanfriendly>=9.1->coloredlogs->onnxruntime>=1.19.0->unstructured[all-docs]) (3.5.4)\n",
      "Requirement already satisfied: marshmallow<4.0.0,>=3.18.0 in c:\\users\\ojasb\\appdata\\local\\programs\\python\\python312\\lib\\site-packages (from dataclasses-json->unstructured[all-docs]) (3.26.1)\n",
      "Requirement already satisfied: typing-inspect<1,>=0.4.0 in c:\\users\\ojasb\\appdata\\local\\programs\\python\\python312\\lib\\site-packages (from dataclasses-json->unstructured[all-docs]) (0.9.0)\n",
      "Requirement already satisfied: mypy-extensions>=0.3.0 in c:\\users\\ojasb\\appdata\\local\\programs\\python\\python312\\lib\\site-packages (from typing-inspect<1,>=0.4.0->dataclasses-json->unstructured[all-docs]) (1.1.0)\n",
      "Requirement already satisfied: torchvision in c:\\users\\ojasb\\appdata\\local\\programs\\python\\python312\\lib\\site-packages (from effdet->unstructured[all-docs]) (0.22.1)\n",
      "Requirement already satisfied: pycocotools>=2.0.2 in c:\\users\\ojasb\\appdata\\local\\programs\\python\\python312\\lib\\site-packages (from effdet->unstructured[all-docs]) (2.0.10)\n",
      "Requirement already satisfied: omegaconf>=2.0 in c:\\users\\ojasb\\appdata\\local\\programs\\python\\python312\\lib\\site-packages (from effdet->unstructured[all-docs]) (2.3.0)\n",
      "Requirement already satisfied: antlr4-python3-runtime==4.9.* in c:\\users\\ojasb\\appdata\\local\\programs\\python\\python312\\lib\\site-packages (from omegaconf>=2.0->effdet->unstructured[all-docs]) (4.9.3)\n",
      "Requirement already satisfied: google-api-core!=2.0.*,!=2.1.*,!=2.10.*,!=2.2.*,!=2.3.*,!=2.4.*,!=2.5.*,!=2.6.*,!=2.7.*,!=2.8.*,!=2.9.*,<3.0.0,>=1.34.1 in c:\\users\\ojasb\\appdata\\local\\programs\\python\\python312\\lib\\site-packages (from google-api-core[grpc]!=2.0.*,!=2.1.*,!=2.10.*,!=2.2.*,!=2.3.*,!=2.4.*,!=2.5.*,!=2.6.*,!=2.7.*,!=2.8.*,!=2.9.*,<3.0.0,>=1.34.1->google-cloud-vision->unstructured[all-docs]) (2.26.0)\n",
      "Requirement already satisfied: google-auth!=2.24.0,!=2.25.0,<3.0.0,>=2.14.1 in c:\\users\\ojasb\\appdata\\local\\programs\\python\\python312\\lib\\site-packages (from google-cloud-vision->unstructured[all-docs]) (2.41.1)\n",
      "Requirement already satisfied: proto-plus<2.0.0,>=1.22.3 in c:\\users\\ojasb\\appdata\\local\\programs\\python\\python312\\lib\\site-packages (from google-cloud-vision->unstructured[all-docs]) (1.26.1)\n",
      "Requirement already satisfied: googleapis-common-protos<2.0.0,>=1.56.2 in c:\\users\\ojasb\\appdata\\local\\programs\\python\\python312\\lib\\site-packages (from google-api-core!=2.0.*,!=2.1.*,!=2.10.*,!=2.2.*,!=2.3.*,!=2.4.*,!=2.5.*,!=2.6.*,!=2.7.*,!=2.8.*,!=2.9.*,<3.0.0,>=1.34.1->google-api-core[grpc]!=2.0.*,!=2.1.*,!=2.10.*,!=2.2.*,!=2.3.*,!=2.4.*,!=2.5.*,!=2.6.*,!=2.7.*,!=2.8.*,!=2.9.*,<3.0.0,>=1.34.1->google-cloud-vision->unstructured[all-docs]) (1.70.0)\n",
      "Requirement already satisfied: grpcio<2.0.0,>=1.33.2 in c:\\users\\ojasb\\appdata\\local\\programs\\python\\python312\\lib\\site-packages (from google-api-core[grpc]!=2.0.*,!=2.1.*,!=2.10.*,!=2.2.*,!=2.3.*,!=2.4.*,!=2.5.*,!=2.6.*,!=2.7.*,!=2.8.*,!=2.9.*,<3.0.0,>=1.34.1->google-cloud-vision->unstructured[all-docs]) (1.75.1)\n",
      "Requirement already satisfied: grpcio-status<2.0.0,>=1.33.2 in c:\\users\\ojasb\\appdata\\local\\programs\\python\\python312\\lib\\site-packages (from google-api-core[grpc]!=2.0.*,!=2.1.*,!=2.10.*,!=2.2.*,!=2.3.*,!=2.4.*,!=2.5.*,!=2.6.*,!=2.7.*,!=2.8.*,!=2.9.*,<3.0.0,>=1.34.1->google-cloud-vision->unstructured[all-docs]) (1.75.1)\n",
      "Requirement already satisfied: cachetools<7.0,>=2.0.0 in c:\\users\\ojasb\\appdata\\local\\programs\\python\\python312\\lib\\site-packages (from google-auth!=2.24.0,!=2.25.0,<3.0.0,>=2.14.1->google-cloud-vision->unstructured[all-docs]) (6.1.0)\n",
      "Requirement already satisfied: pyasn1-modules>=0.2.1 in c:\\users\\ojasb\\appdata\\local\\programs\\python\\python312\\lib\\site-packages (from google-auth!=2.24.0,!=2.25.0,<3.0.0,>=2.14.1->google-cloud-vision->unstructured[all-docs]) (0.4.2)\n",
      "Requirement already satisfied: rsa<5,>=3.1.4 in c:\\users\\ojasb\\appdata\\local\\programs\\python\\python312\\lib\\site-packages (from google-auth!=2.24.0,!=2.25.0,<3.0.0,>=2.14.1->google-cloud-vision->unstructured[all-docs]) (4.9.1)\n",
      "Requirement already satisfied: idna<4,>=2.5 in c:\\users\\ojasb\\appdata\\local\\programs\\python\\python312\\lib\\site-packages (from requests->unstructured[all-docs]) (3.10)\n",
      "Requirement already satisfied: urllib3<3,>=1.21.1 in c:\\users\\ojasb\\appdata\\local\\programs\\python\\python312\\lib\\site-packages (from requests->unstructured[all-docs]) (2.3.0)\n",
      "Requirement already satisfied: certifi>=2017.4.17 in c:\\users\\ojasb\\appdata\\local\\programs\\python\\python312\\lib\\site-packages (from requests->unstructured[all-docs]) (2024.12.14)\n",
      "Requirement already satisfied: pyasn1>=0.1.3 in c:\\users\\ojasb\\appdata\\local\\programs\\python\\python312\\lib\\site-packages (from rsa<5,>=3.1.4->google-auth!=2.24.0,!=2.25.0,<3.0.0,>=2.14.1->google-cloud-vision->unstructured[all-docs]) (0.6.1)\n",
      "Requirement already satisfied: six>=1.9 in c:\\users\\ojasb\\appdata\\local\\programs\\python\\python312\\lib\\site-packages (from html5lib->unstructured[all-docs]) (1.16.0)\n",
      "Requirement already satisfied: webencodings in c:\\users\\ojasb\\appdata\\local\\programs\\python\\python312\\lib\\site-packages (from html5lib->unstructured[all-docs]) (0.5.1)\n",
      "Requirement already satisfied: MarkupSafe>=2.0 in c:\\users\\ojasb\\appdata\\local\\programs\\python\\python312\\lib\\site-packages (from jinja2->torch->unstructured-inference>=1.0.5->unstructured[all-docs]) (3.0.2)\n",
      "Requirement already satisfied: contourpy>=1.0.1 in c:\\users\\ojasb\\appdata\\local\\programs\\python\\python312\\lib\\site-packages (from matplotlib->unstructured-inference>=1.0.5->unstructured[all-docs]) (1.3.0)\n",
      "Requirement already satisfied: cycler>=0.10 in c:\\users\\ojasb\\appdata\\local\\programs\\python\\python312\\lib\\site-packages (from matplotlib->unstructured-inference>=1.0.5->unstructured[all-docs]) (0.12.1)\n",
      "Requirement already satisfied: fonttools>=4.22.0 in c:\\users\\ojasb\\appdata\\local\\programs\\python\\python312\\lib\\site-packages (from matplotlib->unstructured-inference>=1.0.5->unstructured[all-docs]) (4.53.1)\n",
      "Requirement already satisfied: kiwisolver>=1.3.1 in c:\\users\\ojasb\\appdata\\local\\programs\\python\\python312\\lib\\site-packages (from matplotlib->unstructured-inference>=1.0.5->unstructured[all-docs]) (1.4.7)\n",
      "Requirement already satisfied: pyparsing>=2.3.1 in c:\\users\\ojasb\\appdata\\local\\programs\\python\\python312\\lib\\site-packages (from matplotlib->unstructured-inference>=1.0.5->unstructured[all-docs]) (3.1.4)\n",
      "Requirement already satisfied: python-dateutil>=2.7 in c:\\users\\ojasb\\appdata\\local\\programs\\python\\python312\\lib\\site-packages (from matplotlib->unstructured-inference>=1.0.5->unstructured[all-docs]) (2.9.0.post0)\n",
      "Requirement already satisfied: cryptography>=39.0 in c:\\users\\ojasb\\appdata\\local\\programs\\python\\python312\\lib\\site-packages (from msoffcrypto-tool->unstructured[all-docs]) (46.0.2)\n",
      "Requirement already satisfied: olefile>=0.46 in c:\\users\\ojasb\\appdata\\local\\programs\\python\\python312\\lib\\site-packages (from msoffcrypto-tool->unstructured[all-docs]) (0.47)\n",
      "Requirement already satisfied: cffi>=2.0.0 in c:\\users\\ojasb\\appdata\\local\\programs\\python\\python312\\lib\\site-packages (from cryptography>=39.0->msoffcrypto-tool->unstructured[all-docs]) (2.0.0)\n",
      "Requirement already satisfied: pycparser in c:\\users\\ojasb\\appdata\\local\\programs\\python\\python312\\lib\\site-packages (from cffi>=2.0.0->cryptography>=39.0->msoffcrypto-tool->unstructured[all-docs]) (2.22)\n",
      "Requirement already satisfied: click in c:\\users\\ojasb\\appdata\\local\\programs\\python\\python312\\lib\\site-packages (from nltk->unstructured[all-docs]) (8.1.7)\n",
      "Requirement already satisfied: joblib in c:\\users\\ojasb\\appdata\\local\\programs\\python\\python312\\lib\\site-packages (from nltk->unstructured[all-docs]) (1.4.2)\n",
      "Requirement already satisfied: et-xmlfile in c:\\users\\ojasb\\appdata\\local\\programs\\python\\python312\\lib\\site-packages (from openpyxl->unstructured[all-docs]) (2.0.0)\n",
      "Requirement already satisfied: pytz>=2020.1 in c:\\users\\ojasb\\appdata\\local\\programs\\python\\python312\\lib\\site-packages (from pandas->unstructured[all-docs]) (2024.1)\n",
      "Requirement already satisfied: tzdata>=2022.7 in c:\\users\\ojasb\\appdata\\local\\programs\\python\\python312\\lib\\site-packages (from pandas->unstructured[all-docs]) (2024.1)\n",
      "Requirement already satisfied: Deprecated in c:\\users\\ojasb\\appdata\\local\\programs\\python\\python312\\lib\\site-packages (from pikepdf->unstructured[all-docs]) (1.2.18)\n",
      "Requirement already satisfied: aiofiles>=24.1.0 in c:\\users\\ojasb\\appdata\\local\\programs\\python\\python312\\lib\\site-packages (from unstructured-client->unstructured[all-docs]) (25.1.0)\n",
      "Requirement already satisfied: httpcore>=1.0.9 in c:\\users\\ojasb\\appdata\\local\\programs\\python\\python312\\lib\\site-packages (from unstructured-client->unstructured[all-docs]) (1.0.9)\n",
      "Requirement already satisfied: httpx>=0.27.0 in c:\\users\\ojasb\\appdata\\local\\programs\\python\\python312\\lib\\site-packages (from unstructured-client->unstructured[all-docs]) (0.28.1)\n",
      "Requirement already satisfied: pydantic>=2.11.2 in c:\\users\\ojasb\\appdata\\local\\programs\\python\\python312\\lib\\site-packages (from unstructured-client->unstructured[all-docs]) (2.12.2)\n",
      "Requirement already satisfied: requests-toolbelt>=1.0.0 in c:\\users\\ojasb\\appdata\\local\\programs\\python\\python312\\lib\\site-packages (from unstructured-client->unstructured[all-docs]) (1.0.0)\n",
      "Requirement already satisfied: h11>=0.16 in c:\\users\\ojasb\\appdata\\local\\programs\\python\\python312\\lib\\site-packages (from httpcore>=1.0.9->unstructured-client->unstructured[all-docs]) (0.16.0)\n",
      "Requirement already satisfied: anyio in c:\\users\\ojasb\\appdata\\local\\programs\\python\\python312\\lib\\site-packages (from httpx>=0.27.0->unstructured-client->unstructured[all-docs]) (4.8.0)\n",
      "Requirement already satisfied: annotated-types>=0.6.0 in c:\\users\\ojasb\\appdata\\local\\programs\\python\\python312\\lib\\site-packages (from pydantic>=2.11.2->unstructured-client->unstructured[all-docs]) (0.7.0)\n",
      "Requirement already satisfied: pydantic-core==2.41.4 in c:\\users\\ojasb\\appdata\\local\\programs\\python\\python312\\lib\\site-packages (from pydantic>=2.11.2->unstructured-client->unstructured[all-docs]) (2.41.4)\n",
      "Requirement already satisfied: typing-inspection>=0.4.2 in c:\\users\\ojasb\\appdata\\local\\programs\\python\\python312\\lib\\site-packages (from pydantic>=2.11.2->unstructured-client->unstructured[all-docs]) (0.4.2)\n",
      "Requirement already satisfied: sniffio>=1.1 in c:\\users\\ojasb\\appdata\\local\\programs\\python\\python312\\lib\\site-packages (from anyio->httpx>=0.27.0->unstructured-client->unstructured[all-docs]) (1.3.1)\n"
     ]
    }
   ],
   "source": [
    "!pip install --q unstructured langchain pdfminer.six\n",
    "!pip install \"unstructured[all-docs]\""
   ]
  },
  {
   "cell_type": "code",
   "execution_count": 12,
   "id": "767b789f-5830-4255-9334-bd4602903631",
   "metadata": {},
   "outputs": [],
   "source": [
    "from langchain_community.document_loaders import UnstructuredPDFLoader\n",
    "from langchain_community.document_loaders import OnlinePDFLoader"
   ]
  },
  {
   "cell_type": "code",
   "execution_count": 13,
   "id": "fd1a5216-2ef7-4102-8c71-c58111bf030f",
   "metadata": {},
   "outputs": [
    {
     "name": "stdout",
     "output_type": "stream",
     "text": [
      "Warning: No languages specified, defaulting to English.\n",
      "done\n"
     ]
    }
   ],
   "source": [
    "local_path=\"TM_Cyclone_NIDM24.pdf\"\n",
    "\n",
    "if local_path:\n",
    "  loader=UnstructuredPDFLoader(file_path=local_path)\n",
    "  data=loader.load()\n",
    "else:\n",
    "  print(\"upload a pdf file\")\n",
    "\n",
    "print(\"done\")"
   ]
  },
  {
   "cell_type": "code",
   "execution_count": 14,
   "id": "ca46acdb-055f-4468-9b41-e2d3a9334593",
   "metadata": {},
   "outputs": [
    {
     "name": "stderr",
     "output_type": "stream",
     "text": [
      "\u001b[?2026h\u001b[?25l\u001b[1Gpulling manifest â ‹ \u001b[K\u001b[?25h\u001b[?2026l\u001b[?2026h\u001b[?25l\u001b[1Gpulling manifest â ™ \u001b[K\u001b[?25h\u001b[?2026l\u001b[?2026h\u001b[?25l\u001b[1Gpulling manifest â ¹ \u001b[K\u001b[?25h\u001b[?2026l\u001b[?2026h\u001b[?25l\u001b[1Gpulling manifest â ¸ \u001b[K\u001b[?25h\u001b[?2026l\u001b[?2026h\u001b[?25l\u001b[1Gpulling manifest â ¼ \u001b[K\u001b[?25h\u001b[?2026l\u001b[?2026h\u001b[?25l\u001b[1Gpulling manifest â ´ \u001b[K\u001b[?25h\u001b[?2026l\u001b[?2026h\u001b[?25l\u001b[1Gpulling manifest â ¦ \u001b[K\u001b[?25h\u001b[?2026l\u001b[?2026h\u001b[?25l\u001b[1Gpulling manifest â § \u001b[K\u001b[?25h\u001b[?2026l\u001b[?2026h\u001b[?25l\u001b[1Gpulling manifest â ‡ \u001b[K\u001b[?25h\u001b[?2026l\u001b[?2026h\u001b[?25l\u001b[1Gpulling manifest â � \u001b[K\u001b[?25h\u001b[?2026l\u001b[?2026h\u001b[?25l\u001b[1Gpulling manifest â ‹ \u001b[K\u001b[?25h\u001b[?2026l\u001b[?2026h\u001b[?25l\u001b[1Gpulling manifest â ™ \u001b[K\u001b[?25h\u001b[?2026l\u001b[?2026h\u001b[?25l\u001b[1Gpulling manifest â ¹ \u001b[K\u001b[?25h\u001b[?2026l\u001b[?2026h\u001b[?25l\u001b[1Gpulling manifest â ¸ \u001b[K\u001b[?25h\u001b[?2026l\u001b[?2026h\u001b[?25l\u001b[1Gpulling manifest â ¼ \u001b[K\u001b[?25h\u001b[?2026l\u001b[?2026h\u001b[?25l\u001b[1Gpulling manifest â ´ \u001b[K\u001b[?25h\u001b[?2026l\u001b[?2026h\u001b[?25l\u001b[1Gpulling manifest â ¦ \u001b[K\u001b[?25h\u001b[?2026l\u001b[?2026h\u001b[?25l\u001b[1Gpulling manifest â § \u001b[K\u001b[?25h\u001b[?2026l\u001b[?2026h\u001b[?25l\u001b[1Gpulling manifest â ‡ \u001b[K\u001b[?25h\u001b[?2026l\u001b[?2026h\u001b[?25l\u001b[1Gpulling manifest â � \u001b[K\u001b[?25h\u001b[?2026l\u001b[?2026h\u001b[?25l\u001b[1Gpulling manifest â ‹ \u001b[K\u001b[?25h\u001b[?2026l\u001b[?2026h\u001b[?25l\u001b[1Gpulling manifest \u001b[K\n",
      "pulling 970aa74c0a90: 100% â–•â–ˆâ–ˆâ–ˆâ–ˆâ–ˆâ–ˆâ–ˆâ–ˆâ–ˆâ–ˆâ–ˆâ–ˆâ–ˆâ–ˆâ–ˆâ–ˆâ–ˆâ–ˆâ–� 274 MB                         \u001b[K\n",
      "pulling c71d239df917: 100% â–•â–ˆâ–ˆâ–ˆâ–ˆâ–ˆâ–ˆâ–ˆâ–ˆâ–ˆâ–ˆâ–ˆâ–ˆâ–ˆâ–ˆâ–ˆâ–ˆâ–ˆâ–ˆâ–�  11 KB                         \u001b[K\n",
      "pulling ce4a164fc046: 100% â–•â–ˆâ–ˆâ–ˆâ–ˆâ–ˆâ–ˆâ–ˆâ–ˆâ–ˆâ–ˆâ–ˆâ–ˆâ–ˆâ–ˆâ–ˆâ–ˆâ–ˆâ–ˆâ–�   17 B                         \u001b[K\n",
      "pulling 31df23ea7daa: 100% â–•â–ˆâ–ˆâ–ˆâ–ˆâ–ˆâ–ˆâ–ˆâ–ˆâ–ˆâ–ˆâ–ˆâ–ˆâ–ˆâ–ˆâ–ˆâ–ˆâ–ˆâ–ˆâ–�  420 B                         \u001b[K\n",
      "verifying sha256 digest \u001b[K\n",
      "writing manifest \u001b[K\n",
      "success \u001b[K\u001b[?25h\u001b[?2026l\n"
     ]
    }
   ],
   "source": [
    "!ollama pull nomic-embed-text"
   ]
  },
  {
   "cell_type": "code",
   "execution_count": 15,
   "id": "7b9f7b6f-7d23-4a36-acab-f874f746744f",
   "metadata": {},
   "outputs": [
    {
     "name": "stdout",
     "output_type": "stream",
     "text": [
      "NAME                       ID              SIZE      MODIFIED               \n",
      "nomic-embed-text:latest    0a109f422b47    274 MB    Less than a second ago    \n",
      "llama3.2:latest            a80c4f17acd5    2.0 GB    5 weeks ago               \n",
      "Requirement already satisfied: sentence-transformers in c:\\users\\ojasb\\appdata\\local\\programs\\python\\python312\\lib\\site-packages (5.1.0)\n",
      "Requirement already satisfied: faiss-cpu in c:\\users\\ojasb\\appdata\\local\\programs\\python\\python312\\lib\\site-packages (1.12.0)\n",
      "Requirement already satisfied: langchain in c:\\users\\ojasb\\appdata\\local\\programs\\python\\python312\\lib\\site-packages (0.3.27)\n",
      "Requirement already satisfied: transformers<5.0.0,>=4.41.0 in c:\\users\\ojasb\\appdata\\local\\programs\\python\\python312\\lib\\site-packages (from sentence-transformers) (4.56.1)\n",
      "Requirement already satisfied: tqdm in c:\\users\\ojasb\\appdata\\local\\programs\\python\\python312\\lib\\site-packages (from sentence-transformers) (4.66.6)\n",
      "Requirement already satisfied: torch>=1.11.0 in c:\\users\\ojasb\\appdata\\local\\programs\\python\\python312\\lib\\site-packages (from sentence-transformers) (2.7.1)\n",
      "Requirement already satisfied: scikit-learn in c:\\users\\ojasb\\appdata\\local\\programs\\python\\python312\\lib\\site-packages (from sentence-transformers) (1.5.1)\n",
      "Requirement already satisfied: scipy in c:\\users\\ojasb\\appdata\\local\\programs\\python\\python312\\lib\\site-packages (from sentence-transformers) (1.14.1)\n",
      "Requirement already satisfied: huggingface-hub>=0.20.0 in c:\\users\\ojasb\\appdata\\local\\programs\\python\\python312\\lib\\site-packages (from sentence-transformers) (0.34.4)\n",
      "Requirement already satisfied: Pillow in c:\\users\\ojasb\\appdata\\local\\programs\\python\\python312\\lib\\site-packages (from sentence-transformers) (11.3.0)\n",
      "Requirement already satisfied: typing_extensions>=4.5.0 in c:\\users\\ojasb\\appdata\\local\\programs\\python\\python312\\lib\\site-packages (from sentence-transformers) (4.15.0)\n",
      "Requirement already satisfied: filelock in c:\\users\\ojasb\\appdata\\local\\programs\\python\\python312\\lib\\site-packages (from transformers<5.0.0,>=4.41.0->sentence-transformers) (3.17.0)\n",
      "Requirement already satisfied: numpy>=1.17 in c:\\users\\ojasb\\appdata\\local\\programs\\python\\python312\\lib\\site-packages (from transformers<5.0.0,>=4.41.0->sentence-transformers) (2.1.0)\n",
      "Requirement already satisfied: packaging>=20.0 in c:\\users\\ojasb\\appdata\\local\\programs\\python\\python312\\lib\\site-packages (from transformers<5.0.0,>=4.41.0->sentence-transformers) (24.1)\n",
      "Requirement already satisfied: pyyaml>=5.1 in c:\\users\\ojasb\\appdata\\local\\programs\\python\\python312\\lib\\site-packages (from transformers<5.0.0,>=4.41.0->sentence-transformers) (6.0.2)\n",
      "Requirement already satisfied: regex!=2019.12.17 in c:\\users\\ojasb\\appdata\\local\\programs\\python\\python312\\lib\\site-packages (from transformers<5.0.0,>=4.41.0->sentence-transformers) (2024.9.11)\n",
      "Requirement already satisfied: requests in c:\\users\\ojasb\\appdata\\local\\programs\\python\\python312\\lib\\site-packages (from transformers<5.0.0,>=4.41.0->sentence-transformers) (2.32.5)\n",
      "Requirement already satisfied: tokenizers<=0.23.0,>=0.22.0 in c:\\users\\ojasb\\appdata\\local\\programs\\python\\python312\\lib\\site-packages (from transformers<5.0.0,>=4.41.0->sentence-transformers) (0.22.0)\n",
      "Requirement already satisfied: safetensors>=0.4.3 in c:\\users\\ojasb\\appdata\\local\\programs\\python\\python312\\lib\\site-packages (from transformers<5.0.0,>=4.41.0->sentence-transformers) (0.6.2)\n",
      "Requirement already satisfied: fsspec>=2023.5.0 in c:\\users\\ojasb\\appdata\\local\\programs\\python\\python312\\lib\\site-packages (from huggingface-hub>=0.20.0->sentence-transformers) (2025.2.0)\n",
      "Requirement already satisfied: langchain-core<1.0.0,>=0.3.72 in c:\\users\\ojasb\\appdata\\local\\programs\\python\\python312\\lib\\site-packages (from langchain) (0.3.75)\n",
      "Requirement already satisfied: langchain-text-splitters<1.0.0,>=0.3.9 in c:\\users\\ojasb\\appdata\\local\\programs\\python\\python312\\lib\\site-packages (from langchain) (0.3.11)\n",
      "Requirement already satisfied: langsmith>=0.1.17 in c:\\users\\ojasb\\appdata\\local\\programs\\python\\python312\\lib\\site-packages (from langchain) (0.4.25)\n",
      "Requirement already satisfied: pydantic<3.0.0,>=2.7.4 in c:\\users\\ojasb\\appdata\\local\\programs\\python\\python312\\lib\\site-packages (from langchain) (2.12.2)\n",
      "Requirement already satisfied: SQLAlchemy<3,>=1.4 in c:\\users\\ojasb\\appdata\\local\\programs\\python\\python312\\lib\\site-packages (from langchain) (2.0.43)\n",
      "Requirement already satisfied: tenacity!=8.4.0,<10.0.0,>=8.1.0 in c:\\users\\ojasb\\appdata\\local\\programs\\python\\python312\\lib\\site-packages (from langchain-core<1.0.0,>=0.3.72->langchain) (9.1.2)\n",
      "Requirement already satisfied: jsonpatch<2.0,>=1.33 in c:\\users\\ojasb\\appdata\\local\\programs\\python\\python312\\lib\\site-packages (from langchain-core<1.0.0,>=0.3.72->langchain) (1.33)\n",
      "Requirement already satisfied: jsonpointer>=1.9 in c:\\users\\ojasb\\appdata\\local\\programs\\python\\python312\\lib\\site-packages (from jsonpatch<2.0,>=1.33->langchain-core<1.0.0,>=0.3.72->langchain) (3.0.0)\n",
      "Requirement already satisfied: annotated-types>=0.6.0 in c:\\users\\ojasb\\appdata\\local\\programs\\python\\python312\\lib\\site-packages (from pydantic<3.0.0,>=2.7.4->langchain) (0.7.0)\n",
      "Requirement already satisfied: pydantic-core==2.41.4 in c:\\users\\ojasb\\appdata\\local\\programs\\python\\python312\\lib\\site-packages (from pydantic<3.0.0,>=2.7.4->langchain) (2.41.4)\n",
      "Requirement already satisfied: typing-inspection>=0.4.2 in c:\\users\\ojasb\\appdata\\local\\programs\\python\\python312\\lib\\site-packages (from pydantic<3.0.0,>=2.7.4->langchain) (0.4.2)\n",
      "Requirement already satisfied: charset_normalizer<4,>=2 in c:\\users\\ojasb\\appdata\\local\\programs\\python\\python312\\lib\\site-packages (from requests->transformers<5.0.0,>=4.41.0->sentence-transformers) (3.4.1)\n",
      "Requirement already satisfied: idna<4,>=2.5 in c:\\users\\ojasb\\appdata\\local\\programs\\python\\python312\\lib\\site-packages (from requests->transformers<5.0.0,>=4.41.0->sentence-transformers) (3.10)\n",
      "Requirement already satisfied: urllib3<3,>=1.21.1 in c:\\users\\ojasb\\appdata\\local\\programs\\python\\python312\\lib\\site-packages (from requests->transformers<5.0.0,>=4.41.0->sentence-transformers) (2.3.0)\n",
      "Requirement already satisfied: certifi>=2017.4.17 in c:\\users\\ojasb\\appdata\\local\\programs\\python\\python312\\lib\\site-packages (from requests->transformers<5.0.0,>=4.41.0->sentence-transformers) (2024.12.14)\n",
      "Requirement already satisfied: greenlet>=1 in c:\\users\\ojasb\\appdata\\local\\programs\\python\\python312\\lib\\site-packages (from SQLAlchemy<3,>=1.4->langchain) (3.2.4)\n",
      "Requirement already satisfied: httpx<1,>=0.23.0 in c:\\users\\ojasb\\appdata\\local\\programs\\python\\python312\\lib\\site-packages (from langsmith>=0.1.17->langchain) (0.28.1)\n",
      "Requirement already satisfied: orjson>=3.9.14 in c:\\users\\ojasb\\appdata\\local\\programs\\python\\python312\\lib\\site-packages (from langsmith>=0.1.17->langchain) (3.11.3)\n",
      "Requirement already satisfied: requests-toolbelt>=1.0.0 in c:\\users\\ojasb\\appdata\\local\\programs\\python\\python312\\lib\\site-packages (from langsmith>=0.1.17->langchain) (1.0.0)\n",
      "Requirement already satisfied: zstandard>=0.23.0 in c:\\users\\ojasb\\appdata\\local\\programs\\python\\python312\\lib\\site-packages (from langsmith>=0.1.17->langchain) (0.24.0)\n",
      "Requirement already satisfied: anyio in c:\\users\\ojasb\\appdata\\local\\programs\\python\\python312\\lib\\site-packages (from httpx<1,>=0.23.0->langsmith>=0.1.17->langchain) (4.8.0)\n",
      "Requirement already satisfied: httpcore==1.* in c:\\users\\ojasb\\appdata\\local\\programs\\python\\python312\\lib\\site-packages (from httpx<1,>=0.23.0->langsmith>=0.1.17->langchain) (1.0.9)\n",
      "Requirement already satisfied: h11>=0.16 in c:\\users\\ojasb\\appdata\\local\\programs\\python\\python312\\lib\\site-packages (from httpcore==1.*->httpx<1,>=0.23.0->langsmith>=0.1.17->langchain) (0.16.0)\n",
      "Requirement already satisfied: sympy>=1.13.3 in c:\\users\\ojasb\\appdata\\local\\programs\\python\\python312\\lib\\site-packages (from torch>=1.11.0->sentence-transformers) (1.14.0)\n",
      "Requirement already satisfied: networkx in c:\\users\\ojasb\\appdata\\local\\programs\\python\\python312\\lib\\site-packages (from torch>=1.11.0->sentence-transformers) (3.4.2)\n",
      "Requirement already satisfied: jinja2 in c:\\users\\ojasb\\appdata\\local\\programs\\python\\python312\\lib\\site-packages (from torch>=1.11.0->sentence-transformers) (3.1.5)\n",
      "Requirement already satisfied: setuptools in c:\\users\\ojasb\\appdata\\local\\programs\\python\\python312\\lib\\site-packages (from torch>=1.11.0->sentence-transformers) (75.8.0)\n",
      "Requirement already satisfied: mpmath<1.4,>=1.1.0 in c:\\users\\ojasb\\appdata\\local\\programs\\python\\python312\\lib\\site-packages (from sympy>=1.13.3->torch>=1.11.0->sentence-transformers) (1.3.0)\n",
      "Requirement already satisfied: colorama in c:\\users\\ojasb\\appdata\\local\\programs\\python\\python312\\lib\\site-packages (from tqdm->sentence-transformers) (0.4.6)\n",
      "Requirement already satisfied: sniffio>=1.1 in c:\\users\\ojasb\\appdata\\local\\programs\\python\\python312\\lib\\site-packages (from anyio->httpx<1,>=0.23.0->langsmith>=0.1.17->langchain) (1.3.1)\n",
      "Requirement already satisfied: MarkupSafe>=2.0 in c:\\users\\ojasb\\appdata\\local\\programs\\python\\python312\\lib\\site-packages (from jinja2->torch>=1.11.0->sentence-transformers) (3.0.2)\n",
      "Requirement already satisfied: joblib>=1.2.0 in c:\\users\\ojasb\\appdata\\local\\programs\\python\\python312\\lib\\site-packages (from scikit-learn->sentence-transformers) (1.4.2)\n",
      "Requirement already satisfied: threadpoolctl>=3.1.0 in c:\\users\\ojasb\\appdata\\local\\programs\\python\\python312\\lib\\site-packages (from scikit-learn->sentence-transformers) (3.5.0)\n"
     ]
    }
   ],
   "source": [
    "!ollama list\n",
    "!pip install sentence-transformers faiss-cpu langchain"
   ]
  },
  {
   "cell_type": "code",
   "execution_count": 16,
   "id": "563abf2e-d741-43f8-94a9-7cd97a7f5f0f",
   "metadata": {},
   "outputs": [],
   "source": [
    "!pip install --q chromadb\n",
    "!pip install --q langchain_text_splitters"
   ]
  },
  {
   "cell_type": "code",
   "execution_count": 17,
   "id": "af5e6b78-d9aa-4445-9b63-dd695f95ddf8",
   "metadata": {},
   "outputs": [],
   "source": [
    "from langchain_community.embeddings import OllamaEmbeddings\n",
    "from langchain_text_splitters import RecursiveCharacterTextSplitter\n",
    "from langchain_community.vectorstores import Chroma"
   ]
  },
  {
   "cell_type": "code",
   "execution_count": 22,
   "id": "3e03407f-090d-426a-a0f9-2ae6bfd56140",
   "metadata": {},
   "outputs": [],
   "source": [
    "text_splitter=RecursiveCharacterTextSplitter(chunk_size=7500,chunk_overlap=100)\n",
    "chunks=text_splitter.split_documents(data)"
   ]
  },
  {
   "cell_type": "code",
   "execution_count": 23,
   "id": "5220ca3c-4534-4403-b98c-8b95d9b3b36e",
   "metadata": {},
   "outputs": [
    {
     "name": "stderr",
     "output_type": "stream",
     "text": [
      "C:\\Users\\ojasb\\AppData\\Local\\Temp\\ipykernel_8436\\1340267426.py:2: LangChainDeprecationWarning: The class `OllamaEmbeddings` was deprecated in LangChain 0.3.1 and will be removed in 1.0.0. An updated version of the class exists in the :class:`~langchain-ollama package and should be used instead. To use it run `pip install -U :class:`~langchain-ollama` and import as `from :class:`~langchain_ollama import OllamaEmbeddings``.\n",
      "  embedding=OllamaEmbeddings(model=\"nomic-embed-text\",show_progress=True),\n",
      "OllamaEmbeddings: 100%|████████████████████████████████████████████████████████████████| 28/28 [01:43<00:00,  3.68s/it]\n"
     ]
    }
   ],
   "source": [
    "vector_db=Chroma.from_documents(documents=chunks,\n",
    "                                embedding=OllamaEmbeddings(model=\"nomic-embed-text\",show_progress=True),\n",
    "                                collection_name=\"local-rag\"\n",
    "                                )"
   ]
  },
  {
   "cell_type": "code",
   "execution_count": 24,
   "id": "e96b631d-055b-4e4b-82ec-c3151ed1cd54",
   "metadata": {},
   "outputs": [
    {
     "name": "stdout",
     "output_type": "stream",
     "text": [
      "done\n"
     ]
    }
   ],
   "source": [
    "print(\"done\")"
   ]
  },
  {
   "cell_type": "code",
   "execution_count": 27,
   "id": "f0c72f12-0732-4024-9acc-158da23ec5cb",
   "metadata": {},
   "outputs": [],
   "source": [
    "from langchain.prompts import ChatPromptTemplate,PromptTemplate\n",
    "from langchain_core.output_parsers import StrOutputParser\n",
    "from langchain_community.chat_models import ChatOllama\n",
    "from langchain_core.runnables import RunnablePassthrough\n",
    "from langchain.retrievers.multi_query import MultiQueryRetriever"
   ]
  },
  {
   "cell_type": "code",
   "execution_count": 38,
   "id": "a2157cff-e42e-417d-858c-0f37da321b5c",
   "metadata": {},
   "outputs": [],
   "source": [
    "# local_model=\"mistral\"\n",
    "# llm=ChatOllama(model=local_model)\n",
    "\n",
    "from langchain_ollama import ChatOllama\n",
    "\n",
    "llm = ChatOllama(model=\"llama3.2\")  # must match your local Ollama model\n"
   ]
  },
  {
   "cell_type": "code",
   "execution_count": 39,
   "id": "18cae32c-5d68-4b7f-80bf-a573ce3fa777",
   "metadata": {},
   "outputs": [],
   "source": [
    "QUERY_PROMPT=PromptTemplate(\n",
    "    input_variables=[\"question\"],\n",
    "    template=\"You are an AI language model assistant. Your task is to generate five different versions of the given user question to retrieve documents from a vector database. By generating multiple perspectives on the user question, your goal is to help the user overcome some of the limitations of distance-based similarity search. Provide these alternative questions separated by newlines.Original question: {question}\"\"\",)"
   ]
  },
  {
   "cell_type": "code",
   "execution_count": 40,
   "id": "4e972ae1-63a2-4aa9-b96f-23964fa0227e",
   "metadata": {},
   "outputs": [],
   "source": [
    "retriever=MultiQueryRetriever.from_llm(vector_db.as_retriever(),llm,prompt=QUERY_PROMPT)\n",
    "\n",
    "\n",
    "template=\"\"\"Answer the question based ONLY on the following context:\n",
    "{context}\n",
    "Question:{question}\"\"\"\n",
    "prompt=ChatPromptTemplate.from_template(template)"
   ]
  },
  {
   "cell_type": "code",
   "execution_count": 41,
   "id": "6f68900d-0db2-4951-bbb5-d94f8e238efd",
   "metadata": {},
   "outputs": [],
   "source": [
    "chain=(\n",
    "    {\"context\":retriever,\"question\":RunnablePassthrough()}\n",
    "    | prompt\n",
    "    | llm\n",
    "    | StrOutputParser()\n",
    ")"
   ]
  },
  {
   "cell_type": "code",
   "execution_count": 42,
   "id": "318e15fe-2e68-4b76-881d-e50eb6330a7c",
   "metadata": {},
   "outputs": [
    {
     "name": "stdin",
     "output_type": "stream",
     "text": [
      " what is this about\n"
     ]
    },
    {
     "name": "stderr",
     "output_type": "stream",
     "text": [
      "OllamaEmbeddings: 100%|██████████████████████████████████████████████████████████████████| 1/1 [00:03<00:00,  3.72s/it]\n",
      "OllamaEmbeddings: 100%|██████████████████████████████████████████████████████████████████| 1/1 [00:02<00:00,  2.12s/it]\n",
      "OllamaEmbeddings: 100%|██████████████████████████████████████████████████████████████████| 1/1 [00:02<00:00,  2.12s/it]\n",
      "OllamaEmbeddings: 100%|██████████████████████████████████████████████████████████████████| 1/1 [00:02<00:00,  2.16s/it]\n",
      "OllamaEmbeddings: 100%|██████████████████████████████████████████████████████████████████| 1/1 [00:02<00:00,  2.14s/it]\n",
      "OllamaEmbeddings: 100%|██████████████████████████████████████████████████████████████████| 1/1 [00:02<00:00,  2.21s/it]\n"
     ]
    },
    {
     "data": {
      "text/plain": [
       "'This appears to be a book or document related to disaster management and cyclone risk management in India. Specifically, it\\'s a \"Training Module\" on Management of Cyclone Disasters published by the National Institute of Disaster Management (NIDM). The document provides guidance, information, and best practices for managing cyclone disasters, including training materials for facilitators and stakeholders.'"
      ]
     },
     "execution_count": 42,
     "metadata": {},
     "output_type": "execute_result"
    }
   ],
   "source": [
    "chain.invoke(input(\"\"))"
   ]
  },
  {
   "cell_type": "code",
   "execution_count": null,
   "id": "2792c952-4c14-4b83-8ab8-24ae2773b3ce",
   "metadata": {},
   "outputs": [],
   "source": []
  }
 ],
 "metadata": {
  "kernelspec": {
   "display_name": "Python 3 (ipykernel)",
   "language": "python",
   "name": "python3"
  },
  "language_info": {
   "codemirror_mode": {
    "name": "ipython",
    "version": 3
   },
   "file_extension": ".py",
   "mimetype": "text/x-python",
   "name": "python",
   "nbconvert_exporter": "python",
   "pygments_lexer": "ipython3",
   "version": "3.12.5"
  }
 },
 "nbformat": 4,
 "nbformat_minor": 5
}
